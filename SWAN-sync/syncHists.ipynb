{
 "cells": [
  {
   "cell_type": "markdown",
   "metadata": {},
   "source": [
    "# Compare histograms of variables in synchronization n-tuples\n",
    "\n",
    "This script takes given branch names such as `pt_1` or `m_vis` and plots the histograms for each variable combined in one canvas. As well, a ratio is computed respective to a given reference team.\n",
    "\n",
    "**Contributing:** Before committing your code changes, please run `Cell/All Output/Clear` or `Kernel/Restart & Clear Output`. Otherwise you'll commit the print statements, which cause unnecessary changes to the notebook."
   ]
  },
  {
   "cell_type": "markdown",
   "metadata": {},
   "source": [
    "## Setup\n",
    "\n",
    "**NOTE:** You have to edit only this section to run the synchronization!\n",
    "\n",
    "For each team, you need to place a `<TEAM>.yaml.txt` file in the `teams/` folder. This file points for the desired model and channel to the correct synchronization ntuple."
   ]
  },
  {
   "cell_type": "code",
   "execution_count": null,
   "metadata": {
    "collapsed": true
   },
   "outputs": [],
   "source": [
    "# Select the teams and the team leader\n",
    "teams = ['KIT', 'CERN', 'DESY']\n",
    "referenceTeam = 'KIT'\n",
    "\n",
    "# Select the model\n",
    "model = 'sm'\n",
    "\n",
    "# Select the channel for the selected model\n",
    "channel = 'mt'\n",
    "\n",
    "# Define the variables for the comparisons\n",
    "variables = {\n",
    "    'pt_1'  : [20, 0, 800],\n",
    "    'pt_2'  : [20, 0, 800],\n",
    "    'eta_1' : [20, -3, 3],\n",
    "    'eta_2' : [20, -3, 3]} # Set up branch names and histogram parameters [bins, min, max]\n",
    "\n",
    "# Plot setting\n",
    "# NOTE: The colors are assigned matching the order in the `teams` list\n",
    "colorMap = [2, 3, 4, 5, 6]\n",
    "lineStyleMap = [1, 2, 3, 4, 5]\n",
    "\n",
    "# Toggle verbosity of notebook\n",
    "# NOTE: If there are a lot of variables defined, the notebook can create a lot of output\n",
    "verbose = True"
   ]
  },
  {
   "cell_type": "markdown",
   "metadata": {},
   "source": [
    "## Histogram variables and compute ratios\n",
    "\n",
    "### Import modules"
   ]
  },
  {
   "cell_type": "code",
   "execution_count": null,
   "metadata": {
    "collapsed": false
   },
   "outputs": [],
   "source": [
    "import yaml\n",
    "import numpy as np\n",
    "from warnings import warn\n",
    "import os\n",
    "from sys import stdout\n",
    "import ROOT\n",
    "\n",
    "# Enable Javascript in this notebook\n",
    "%jsroot on"
   ]
  },
  {
   "cell_type": "markdown",
   "metadata": {},
   "source": [
    "### Get configs from files"
   ]
  },
  {
   "cell_type": "code",
   "execution_count": null,
   "metadata": {
    "collapsed": true
   },
   "outputs": [],
   "source": [
    "# Get configs\n",
    "# NOTE: It is assumed that the files are named `<TEAM>.yaml.txt`\n",
    "configs = {}\n",
    "for team in teams:\n",
    "    filepath = 'teams/{}.yaml.txt'.format(team) # FIXME: Set an absolute path here!\n",
    "    if not os.path.isfile(filepath):\n",
    "        warn('File not found for team {}: {}'.format(team, filepath))\n",
    "    file_ = open(filepath)\n",
    "    configs[team] = yaml.load(file_)"
   ]
  },
  {
   "cell_type": "markdown",
   "metadata": {},
   "source": [
    "### Load trees"
   ]
  },
  {
   "cell_type": "code",
   "execution_count": null,
   "metadata": {
    "collapsed": true
   },
   "outputs": [],
   "source": [
    "# Load files and trees from config files\n",
    "files = {}\n",
    "trees = {}\n",
    "entries = {}\n",
    "\n",
    "for team in teams:\n",
    "    # Check validity of config file\n",
    "    if not model in configs[team]:\n",
    "        warn('Model `{}` is not found in config of team {}'.format(model, team))\n",
    "    if not channel in configs[team][model]:\n",
    "        warn('Channel `{}` is not found for model `{}` in config of team {}'.format(channel, model, team))\n",
    "    if not 'file' in configs[team][model][channel]:\n",
    "        warn('Key `file` is not found for channel `{}` and model `{}` in config of team {}'.format(channel, model, team))\n",
    "    fileName = configs[team][model][channel]['file']\n",
    "    if not 'tree' in configs[team][model][channel]:\n",
    "        warn('Key `tree` is not found for channel `{}` and model `{}` in config of team {}'.format(channel, model, team))\n",
    "    treeName = configs[team][model][channel]['tree']\n",
    "    \n",
    "    # Load ROOT file and tree\n",
    "    files[team] = ROOT.TFile(fileName)\n",
    "    if files[team] == None:\n",
    "        warn('Can not open ROOT file with path `{}` for team {}'.format(fileName, team))\n",
    "    trees[team] = files[team].Get(treeName)\n",
    "    if trees[team] == None:\n",
    "        warn('Can not open tree `{}` from ROOT file with path `{}` for team {}'.format(treeName, fileName, team))"
   ]
  },
  {
   "cell_type": "markdown",
   "metadata": {},
   "source": [
    "### Read data and set up canvases"
   ]
  },
  {
   "cell_type": "code",
   "execution_count": null,
   "metadata": {
    "collapsed": false
   },
   "outputs": [],
   "source": [
    "# Define global plot settings\n",
    "ROOT.gStyle.SetOptStat(False)\n",
    "ROOT.gStyle.SetTitleOffset(2.5, 'Y')\n",
    "fontSize = 14\n",
    "\n",
    "# Fill plots with overlayed histograms and ratios\n",
    "plots = {}\n",
    "\n",
    "for variable in variables:\n",
    "    # Print progress\n",
    "    if verbose > 0:\n",
    "        stdout.write('Processing variable: {}\\n'.format(variable))\n",
    "        stdout.flush() # This forces to print an output immediately\n",
    "    \n",
    "    plots[variable] = {}\n",
    "    \n",
    "    # Set up canvas\n",
    "    c = ROOT.TCanvas(variable, variable, 800, 600)\n",
    "    plots[variable]['canvas'] = c\n",
    "    \n",
    "    # Set up upper pad\n",
    "    padUpper = ROOT.TPad('padUpper', 'padUpper', 0.0, 0.3, 1.0, 1.0)\n",
    "    plots[variable]['padUpper'] = padUpper\n",
    "    padUpper.Draw()\n",
    "    padUpper.cd()\n",
    "    \n",
    "    # Go through teams and put histograms in upper pad\n",
    "    for iTeam, team in enumerate(teams):\n",
    "        if verbose > 0:\n",
    "            stdout.write('  Histogram: {}\\n'.format(team))\n",
    "            stdout.flush()\n",
    "        \n",
    "        histName = 'h_{}_{}'.format(team, variable)\n",
    "        hist = ROOT.TH1F(histName, histName,\n",
    "                         variables[variable][0], variables[variable][1], variables[variable][2])\n",
    "        plots[variable][histName] = hist\n",
    "        hist.SetTitle(variable)\n",
    "        hist.GetXaxis().SetTitle(variable)\n",
    "        hist.GetXaxis().SetRangeUser(variables[variable][1], variables[variable][2])\n",
    "        hist.GetYaxis().SetTitle('Entries')\n",
    "        hist.GetXaxis().SetLabelSize(fontSize)\n",
    "        hist.GetYaxis().SetLabelSize(fontSize)\n",
    "        hist.GetXaxis().SetTitleSize(fontSize)\n",
    "        hist.GetYaxis().SetTitleSize(fontSize)\n",
    "        hist.SetLineColor(colorMap[iTeam])\n",
    "        hist.SetLineStyle(lineStyleMap[iTeam])\n",
    "        for iEvent in range(trees[team].GetEntries()):\n",
    "            trees[team].GetEntry(iEvent)\n",
    "            hist.Fill(getattr(trees[team], variable))\n",
    "        if iTeam == 0:\n",
    "            hist.Draw()\n",
    "        else:\n",
    "            hist.Draw('SAME')\n",
    "    \n",
    "    # Set up lower pad\n",
    "    c.cd()\n",
    "    padLower = ROOT.TPad('padLower', 'padLower', 0.0, 0.0, 1.0, 0.3)\n",
    "    padLower.Draw()\n",
    "    plots[variable]['padLower'] = padLower\n",
    "    padLower.cd()\n",
    "    \n",
    "    # Put ratios in lower pad\n",
    "    \n",
    "    # Calculate ratios\n",
    "    numBins = variables[variable][0]\n",
    "    ratios = np.zeros((numBins, len(teams)), dtype=np.float)\n",
    "    maxRatio = 0 # Min and max ratios are used to scale the axis properly\n",
    "    minRatio = 1e3\n",
    "    \n",
    "    if referenceTeam not in teams:\n",
    "        warn('Reference team {} not in list of teams {}'.format(referenceTeam, teams))\n",
    "    \n",
    "    for iBin in range(numBins):\n",
    "        yReference = plots[variable]['h_{}_{}'.format(referenceTeam, variable)].GetBinContent(iBin+1)\n",
    "        for iTeam, team in enumerate(teams):\n",
    "            if yReference != 0: # If denominator is zero, put zero as ratio!\n",
    "                yCompare = plots[variable]['h_{}_{}'.format(team, variable)].GetBinContent(iBin+1) # Use +1 to skip underflow bin\n",
    "                ratios[iBin, iTeam] = yCompare/yReference\n",
    "                if ratios[iBin, iTeam] > maxRatio:\n",
    "                    maxRatio = ratios[iBin, iTeam]\n",
    "                if ratios[iBin, iTeam] < minRatio:\n",
    "                    minRatio = ratios[iBin, iTeam]\n",
    "                \n",
    "    # Set up ratio plots\n",
    "    for iTeam, team in enumerate(teams):\n",
    "        if verbose > 0:\n",
    "            stdout.write('  Ratio: {}\\n'.format(team))\n",
    "            stdout.flush()\n",
    "        \n",
    "        ratioName = 'r_{}_{}'.format(team, variable)\n",
    "        r = ROOT.TH1F(ratioName, ratioName,\n",
    "                      variables[variable][0], variables[variable][1], variables[variable][2])\n",
    "        plots[variable][ratioName] = r\n",
    "        for iBin in range(numBins):\n",
    "            r.AddBinContent(iBin+1, ratios[iBin, iTeam])\n",
    "        r.SetTitle('')\n",
    "        r.GetYaxis().SetTitle('Ratio')\n",
    "        r.GetXaxis().SetRangeUser(variables[variable][1], variables[variable][2])\n",
    "        r.GetYaxis().SetRangeUser(minRatio - (maxRatio-minRatio)*0.1, maxRatio + (maxRatio-minRatio)*0.1) # Give additional range on y axis\n",
    "        r.GetXaxis().SetLabelSize(fontSize)\n",
    "        r.GetYaxis().SetLabelSize(fontSize)\n",
    "        r.GetXaxis().SetTitleSize(fontSize)\n",
    "        r.GetYaxis().SetTitleSize(fontSize)\n",
    "        r.SetMarkerStyle(34)\n",
    "        r.SetMarkerColor(colorMap[iTeam])\n",
    "        r.SetLineColor(colorMap[iTeam]) # Needed to set color of interactive legend boxes\n",
    "        r.SetMarkerSize(1)\n",
    "        if iTeam == 0:\n",
    "            r.Draw('P')\n",
    "        else:\n",
    "            r.Draw('P SAME')"
   ]
  },
  {
   "cell_type": "markdown",
   "metadata": {},
   "source": [
    "## Draw histograms"
   ]
  },
  {
   "cell_type": "code",
   "execution_count": null,
   "metadata": {
    "collapsed": false,
    "scrolled": true
   },
   "outputs": [],
   "source": [
    "for variable in variables:\n",
    "    plots[variable]['canvas'].Draw()"
   ]
  },
  {
   "cell_type": "code",
   "execution_count": null,
   "metadata": {
    "collapsed": true
   },
   "outputs": [],
   "source": []
  }
 ],
 "metadata": {
  "kernelspec": {
   "display_name": "Python 2",
   "language": "python",
   "name": "python2"
  },
  "language_info": {
   "codemirror_mode": {
    "name": "ipython",
    "version": 2
   },
   "file_extension": ".py",
   "mimetype": "text/x-python",
   "name": "python",
   "nbconvert_exporter": "python",
   "pygments_lexer": "ipython2",
   "version": "2.7.10"
  }
 },
 "nbformat": 4,
 "nbformat_minor": 1
}
