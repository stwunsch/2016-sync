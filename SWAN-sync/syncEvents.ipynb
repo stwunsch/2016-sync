{
 "cells": [
  {
   "cell_type": "markdown",
   "metadata": {},
   "source": [
    "# Compare event numbers in synchronization n-tuples\n",
    "\n",
    "This script takes the synchronization ntuples of the selected teams for a specific model and channel and compares the event numbers. At the end, this information is represented as a matrix, which holds the number of different event numbers.\n",
    "\n",
    "**Contributing:** Before committing your code changes, please run `Cell/All Output/Clear` or `Kernel/Restart & Clear Output`. Otherwise you'll commit the print statements, which cause unnecessary changes to the notebook."
   ]
  },
  {
   "cell_type": "markdown",
   "metadata": {},
   "source": [
    "## Setup\n",
    "\n",
    "**NOTE:** You have to edit only this section to run the synchronization!\n",
    "\n",
    "For each team, you need to place a `<TEAM>.yaml.txt` file in the `teams/` folder. This file points for the desired model and channel to the correct synchronization ntuple."
   ]
  },
  {
   "cell_type": "code",
   "execution_count": null,
   "metadata": {
    "collapsed": true
   },
   "outputs": [],
   "source": [
    "# Select the teams\n",
    "teams = ['KIT', 'CERN', 'DESY']\n",
    "\n",
    "# Select the model\n",
    "model = 'sm'\n",
    "\n",
    "# Select the channel for the selected model\n",
    "channel = 'mt'\n",
    "\n",
    "# Toggle verbosity of notebook\n",
    "# NOTE: If there are a lot of differences, the notebook can create a lot of output\n",
    "verbose = True"
   ]
  },
  {
   "cell_type": "markdown",
   "metadata": {},
   "source": [
    "## Compare event numbers of given synchronization ntuples\n",
    "\n",
    "The following notebook should stay untouched unless you want to change its behaviour. Of course, check out the results of the different processing steps.\n",
    "\n",
    "### Import modules"
   ]
  },
  {
   "cell_type": "code",
   "execution_count": null,
   "metadata": {
    "collapsed": false
   },
   "outputs": [],
   "source": [
    "import yaml\n",
    "import numpy as np\n",
    "from warnings import warn\n",
    "import os\n",
    "from sys import stdout\n",
    "import ROOT\n",
    "\n",
    "# Enable Javascript in this notebook\n",
    "%jsroot on"
   ]
  },
  {
   "cell_type": "markdown",
   "metadata": {},
   "source": [
    "### Get configs from files"
   ]
  },
  {
   "cell_type": "code",
   "execution_count": null,
   "metadata": {
    "collapsed": true
   },
   "outputs": [],
   "source": [
    "# Get configs\n",
    "# NOTE: It is assumed that the files are named `<TEAM>.yaml.txt`\n",
    "configs = {}\n",
    "for team in teams:\n",
    "    filepath = 'teams/{}.yaml.txt'.format(team) # FIXME: Set an absolute path here!\n",
    "    if not os.path.isfile(filepath):\n",
    "        warn('File not found for team {}: {}'.format(team, filepath))\n",
    "    file_ = open(filepath)\n",
    "    configs[team] = yaml.load(file_)"
   ]
  },
  {
   "cell_type": "markdown",
   "metadata": {},
   "source": [
    "### Load trees and get number of entries in trees"
   ]
  },
  {
   "cell_type": "code",
   "execution_count": null,
   "metadata": {
    "collapsed": false
   },
   "outputs": [],
   "source": [
    "# Load files and trees from config files\n",
    "files = {}\n",
    "trees = {}\n",
    "entries = {}\n",
    "\n",
    "for team in teams:\n",
    "    # Check validity of config file\n",
    "    if not model in configs[team]:\n",
    "        warn('Model `{}` is not found in config of team {}'.format(model, team))\n",
    "    if not channel in configs[team][model]:\n",
    "        warn('Channel `{}` is not found for model `{}` in config of team {}'.format(channel, model, team))\n",
    "    if not 'file' in configs[team][model][channel]:\n",
    "        warn('Key `file` is not found for channel `{}` and model `{}` in config of team {}'.format(channel, model, team))\n",
    "    fileName = configs[team][model][channel]['file']\n",
    "    if not 'tree' in configs[team][model][channel]:\n",
    "        warn('Key `tree` is not found for channel `{}` and model `{}` in config of team {}'.format(channel, model, team))\n",
    "    treeName = configs[team][model][channel]['tree']\n",
    "    \n",
    "    # Load ROOT file and tree\n",
    "    files[team] = ROOT.TFile(fileName)\n",
    "    if files[team] == None:\n",
    "        warn('Can not open ROOT file with path `{}` for team {}'.format(fileName, team))\n",
    "    trees[team] = files[team].Get(treeName)\n",
    "    if trees[team] == None:\n",
    "        warn('Can not open tree `{}` from ROOT file with path `{}` for team {}'.format(treeName, fileName, team))\n",
    "    \n",
    "    # Get number of events\n",
    "    entries[team] = trees[team].GetEntries()\n",
    "    \n",
    "# Print results\n",
    "print('Number of entries in trees:')\n",
    "for team in teams:\n",
    "    print('  {}\\t: {}'.format(team, entries[team]))"
   ]
  },
  {
   "cell_type": "markdown",
   "metadata": {},
   "source": [
    "### Load event numbers from trees in lists"
   ]
  },
  {
   "cell_type": "code",
   "execution_count": null,
   "metadata": {
    "collapsed": false
   },
   "outputs": [],
   "source": [
    "events = {}\n",
    "stdout.write('Processing team:\\n')\n",
    "stdout.flush()\n",
    "for team in teams:\n",
    "    stdout.write('  {}\\n'.format(team))\n",
    "    stdout.flush()\n",
    "    events[team] = np.zeros((entries[team],1), dtype=np.int64)\n",
    "    for iEvent in range(entries[team]):\n",
    "        trees[team].GetEntry(iEvent)\n",
    "        events[team][iEvent] = trees[team].evt # NOTE: The events are read from the `evt` branch"
   ]
  },
  {
   "cell_type": "markdown",
   "metadata": {
    "collapsed": true
   },
   "source": [
    "### Compare event numbers\n",
    "\n",
    "The comparison algorithm works as follows:\n",
    "\n",
    "First, the event number are read out and sorted from smallest to highest entry. Then, we'll go for all combinations of two teams through this sorted lists and check whether the event numbers are the same.\n",
    "\n",
    "If two event numbers in the lists do not match at the current index, then we go in the list where the number is missing one index further but stay in the other list on the same index. As well, an incrementor counts the differences and both event numbers are printed so that this specific events can be examined later on."
   ]
  },
  {
   "cell_type": "code",
   "execution_count": null,
   "metadata": {
    "collapsed": false
   },
   "outputs": [],
   "source": [
    "# Sort event lists\n",
    "for team in events:\n",
    "    events[team].sort(axis=0)\n",
    "    \n",
    "# Compare event numbers\n",
    "if verbose > 0:\n",
    "    stdout.write('Differences:\\n')\n",
    "    stdout.write('  team1\\t->\\tteam2\\t : event1\\t->\\tevent2\\n\\n')\n",
    "    stdout.flush()\n",
    "\n",
    "differences = np.zeros((len(teams),len(teams)), dtype=np.uint64)\n",
    "for i1, team1 in enumerate(teams):\n",
    "    for i2, team2 in enumerate(teams):\n",
    "        team1Min = int(np.min(events[team1]))\n",
    "        team2Min = int(np.min(events[team2]))\n",
    "        index1 = 0\n",
    "        index2 = 0\n",
    "        while index1 < len(events[team1]) or index2 < len(events[team2]):\n",
    "            if events[team1][index1] != events[team2][index2]:\n",
    "                differences[i1, i2] += 1\n",
    "                if verbose > 0:\n",
    "                    stdout.write('  {}\\t->\\t{} : {}\\t->\\t{}\\n'.format(team1, team2, events[team1][index1], events[team2][index2]))\n",
    "                    stdout.flush()\n",
    "                if events[team1][index1]<events[team2][index2]:\n",
    "                    index1 += 1\n",
    "                else:\n",
    "                    index2 += 1\n",
    "            else:\n",
    "                index1 += 1\n",
    "                index2 += 1\n",
    "    if verbose > 0:\n",
    "        stdout.write('\\n')\n",
    "        stdout.flush()"
   ]
  },
  {
   "cell_type": "markdown",
   "metadata": {},
   "source": [
    "## Draw difference matrix\n",
    "\n",
    "Each entry of the matrix holds the number of differences observed in the synchronization ntuples.\n",
    "\n",
    "**NOTE:** The drawn matrix as 2D histogram does not show zero differences. This case is represented as an white area without any entry."
   ]
  },
  {
   "cell_type": "code",
   "execution_count": null,
   "metadata": {
    "collapsed": false
   },
   "outputs": [],
   "source": [
    "# Setup canvas and pads\n",
    "c = ROOT.TCanvas('canvas', 'canvas', 800, 500)\n",
    "padHist = ROOT.TPad('padHist', 'padHist', 0.0, 0.0, 0.8, 1.0)\n",
    "padHist.Draw()\n",
    "padLegend = ROOT.TPad('padLegend', 'padLegend', 0.8, 0.0, 1.0, 1.0)\n",
    "padLegend.Draw()\n",
    "padHist.cd()\n",
    "\n",
    "# Fill integer 2D histogram\n",
    "hist = ROOT.TH2I('hist', 'hist', len(teams), -0.5, len(teams)-0.5, len(teams), -0.5, len(teams)-0.5)\n",
    "for i1 in range(len(teams)):\n",
    "    for i2 in range(len(teams)):\n",
    "        gbin = hist.GetBin(i1+1, i2+1)\n",
    "        hist.AddBinContent(gbin, differences[i1, i2])\n",
    "        \n",
    "# Set histogram options and draw\n",
    "hist.SetTitle('Differences in event numbers')\n",
    "hist.SetStats(False)\n",
    "hist.GetXaxis().SetNdivisions(len(teams))\n",
    "hist.GetYaxis().SetNdivisions(len(teams))\n",
    "hist.Draw('COLZ')\n",
    "\n",
    "# Setup textbox for legend\n",
    "padLegend.cd()\n",
    "text = ROOT.TPaveText(0.1, 0.1, 0.9, 0.9)\n",
    "text.SetLabel('Teams')\n",
    "text.SetTextAlign(12)\n",
    "for i, team in enumerate(teams):\n",
    "    text.AddText('{}: {}'.format(i, team))\n",
    "text.Draw()\n",
    "\n",
    "# Draw canvas\n",
    "c.Draw()"
   ]
  },
  {
   "cell_type": "code",
   "execution_count": null,
   "metadata": {
    "collapsed": true
   },
   "outputs": [],
   "source": []
  }
 ],
 "metadata": {
  "kernelspec": {
   "display_name": "Python 2",
   "language": "python",
   "name": "python2"
  },
  "language_info": {
   "codemirror_mode": {
    "name": "ipython",
    "version": 2
   },
   "file_extension": ".py",
   "mimetype": "text/x-python",
   "name": "python",
   "nbconvert_exporter": "python",
   "pygments_lexer": "ipython2",
   "version": "2.7.10"
  }
 },
 "nbformat": 4,
 "nbformat_minor": 1
}
